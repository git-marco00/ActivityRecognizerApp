{
 "cells": [
  {
   "cell_type": "code",
   "execution_count": 1,
   "outputs": [],
   "source": [
    "import pandas as pd\n",
    "import sys\n",
    "sys.path.append(\"creation_functions\")\n",
    "from creation_functions.utilities import create_time_series, preprocessing, scale_readings\n",
    "from creation_functions.feature_extraction import extract_features"
   ],
   "metadata": {
    "collapsed": false
   }
  },
  {
   "cell_type": "code",
   "execution_count": 2,
   "outputs": [
    {
     "name": "stderr",
     "output_type": "stream",
     "text": [
      "C:\\Users\\marco\\Desktop\\università\\magistrale\\mobile and social sensing systems\\ServerPython\\ActivityRecognizer\\creation_functions\\utilities.py:88: FutureWarning: The default value of numeric_only in DataFrame.corr is deprecated. In a future version, it will default to False. Select only valid columns or specify the value of numeric_only to silence this warning.\n",
      "  corr_matrix = only_numeric_dataset.corr().abs()\n"
     ]
    }
   ],
   "source": [
    "df_train,to_drop = preprocessing(pd.read_csv(\"windowed_dataset.csv\", index_col=0))\n",
    "X_train = df_train.drop([\"class\", \"subject\", \"trial\"], axis=1)\n",
    "y_train = df_train[\"class\"]\n",
    "\n",
    "K_FEATURES = 40"
   ],
   "metadata": {
    "collapsed": false
   }
  },
  {
   "cell_type": "code",
   "execution_count": 3,
   "outputs": [
    {
     "name": "stdout",
     "output_type": "stream",
     "text": [
      "Model Trained\n"
     ]
    }
   ],
   "source": [
    "from sklearn.feature_selection import SelectKBest\n",
    "from imblearn.over_sampling import SMOTE\n",
    "from sklearn.preprocessing import RobustScaler\n",
    "from imblearn.pipeline import Pipeline\n",
    "from sklearn.ensemble import RandomForestClassifier\n",
    "\n",
    "tree_pipe=Pipeline([\n",
    "    (\"scaler\", RobustScaler()),\n",
    "    (\"sampling\", SMOTE()),\n",
    "    (\"feature-selector\", SelectKBest(k=K_FEATURES)),\n",
    "    (\"classifier\", RandomForestClassifier())\n",
    "])\n",
    "tree_pipe.fit(X_train, y_train)\n",
    "print(\"Model Trained\")"
   ],
   "metadata": {
    "collapsed": false
   }
  },
  {
   "cell_type": "code",
   "execution_count": 4,
   "outputs": [],
   "source": [
    "def compress_df(df):\n",
    "    # re ordering columns\n",
    "    df = df[[\"gravity.x\", \"gravity.y\", \"gravity.z\", \"rotationRate.x\", \"rotationRate.y\",\n",
    "                         \"rotationRate.z\", \"userAcceleration.x\", \"userAcceleration.y\", \"userAcceleration.z\"]]\n",
    "    scaled_dataset = scale_readings(df)\n",
    "    new_df = extract_features(scaled_dataset, scaled_dataset.shape[0])\n",
    "    preprocessed_dataset = new_df.drop(to_drop, axis=1)\n",
    "    return preprocessed_dataset"
   ],
   "metadata": {
    "collapsed": false
   }
  },
  {
   "cell_type": "code",
   "execution_count": 5,
   "outputs": [],
   "source": [
    "def recv_msg(sock):\n",
    "    # Read message length and unpack it into an integer\n",
    "    msglen = int(sock.recv(8))\n",
    "    if not msglen:\n",
    "        return None\n",
    "    # Read the message data\n",
    "    return recvall(sock, msglen)\n",
    "\n",
    "def recvall(sock, n):\n",
    "    # Helper function to recv n bytes or return None if EOF is hit\n",
    "    data = bytearray()\n",
    "    while len(data) < n:\n",
    "        packet = sock.recv(n - len(data))\n",
    "        if not packet:\n",
    "            return None\n",
    "        data.extend(packet)\n",
    "    return data"
   ],
   "metadata": {
    "collapsed": false
   }
  },
  {
   "cell_type": "code",
   "execution_count": 6,
   "outputs": [],
   "source": [
    "def msg_to_df(msg):\n",
    "    samples=msg.split(\"|\")\n",
    "    if len(samples) == 9:\n",
    "        # dataset creation\n",
    "        lin_acc_x=list(map(float, samples[0][1:len(samples[0])-1].split(\", \")))\n",
    "        lin_acc_y=list(map(float, samples[1][1:len(samples[1])-1].split(\", \")))\n",
    "        lin_acc_z=list(map(float, samples[2][1:len(samples[2])-1].split(\", \")))\n",
    "        rot_x=list(map(float, samples[3][1:len(samples[3])-1].split(\", \")))\n",
    "        rot_y=list(map(float, samples[4][1:len(samples[4])-1].split(\", \")))\n",
    "        rot_z=list(map(float, samples[5][1:len(samples[5])-1].split(\", \")))\n",
    "        grav_x=list(map(float, samples[6][1:len(samples[6])-1].split(\", \")))\n",
    "        grav_y=list(map(float, samples[7][1:len(samples[7])-1].split(\", \")))\n",
    "        grav_z=list(map(float, samples[8][1:len(samples[8])-1].split(\", \")))\n",
    "        df_len=min([len(lin_acc_x), len(lin_acc_y), len(lin_acc_z), len(rot_x), len(rot_y), len(rot_z), len(grav_x), len(grav_y), len(grav_z)])\n",
    "\n",
    "        df=pd.DataFrame(columns=[\"rotationRate.x\", \"rotationRate.y\", \"rotationRate.z\", \"userAcceleration.x\", \"userAcceleration.y\", \"userAcceleration.z\", \"gravity.x\", \"gravity.y\", \"gravity.z\"])\n",
    "        df[\"rotationRate.x\"]=rot_x[0:df_len]\n",
    "        df[\"rotationRate.y\"]=rot_y[0:df_len]\n",
    "        df[\"rotationRate.z\"]=rot_z[0:df_len]\n",
    "        df[\"userAcceleration.x\"]=lin_acc_x[0:df_len]\n",
    "        df[\"userAcceleration.y\"]=lin_acc_y[0:df_len]\n",
    "        df[\"userAcceleration.z\"]=lin_acc_z[0:df_len]\n",
    "        df[\"gravity.x\"]=grav_x[0:df_len]\n",
    "        df[\"gravity.y\"]=grav_y[0:df_len]\n",
    "        df[\"gravity.z\"]=grav_z[0:df_len]\n",
    "\n",
    "        return df"
   ],
   "metadata": {
    "collapsed": false
   }
  },
  {
   "cell_type": "code",
   "execution_count": 7,
   "outputs": [],
   "source": [
    "import socket\n",
    "HOST = ''\n",
    "PORT = 1060\n",
    "ADDR =(HOST,PORT)\n",
    "def server():\n",
    "    s = socket.socket(socket.AF_INET,socket.SOCK_STREAM)\n",
    "    s.setsockopt(socket.SOL_SOCKET,socket.SO_REUSEADDR,1)\n",
    "    s.bind(ADDR)\n",
    "    s.listen(1)\n",
    "    print ('The server is listening at',s.getsockname())\n",
    "    ss,sockname = s.accept()\n",
    "    ss,sockname = s.accept()\n",
    "\n",
    "    while True:\n",
    "        msg=recv_msg(ss).decode()\n",
    "        if not msg:\n",
    "            ss.close()\n",
    "            return\n",
    "        phone_df= msg_to_df(msg)\n",
    "        df_honor_scaled = compress_df(phone_df)\n",
    "        y_pred = tree_pipe.predict(df_honor_scaled)\n",
    "        pred = repr(y_pred[0])\n",
    "        print(\"Activity recognized: \"+pred)\n",
    "        ss.sendall((pred+ \"\\r\\n\").encode())"
   ],
   "metadata": {
    "collapsed": false
   }
  },
  {
   "cell_type": "code",
   "execution_count": 8,
   "outputs": [
    {
     "name": "stdout",
     "output_type": "stream",
     "text": [
      "The server is listening at ('0.0.0.0', 1060)\n",
      "Activity recognized: 'sit'\n",
      "Activity recognized: 'sit'\n",
      "Activity recognized: 'sit'\n",
      "Activity recognized: 'sit'\n",
      "Activity recognized: 'sit'\n",
      "Activity recognized: 'sit'\n",
      "Activity recognized: 'sit'\n",
      "Activity recognized: 'sit'\n",
      "Activity recognized: 'sit'\n",
      "Activity recognized: 'sit'\n",
      "Activity recognized: 'sit'\n",
      "Activity recognized: 'sit'\n",
      "Activity recognized: 'sit'\n",
      "Activity recognized: 'wlk'\n",
      "Activity recognized: 'wlk'\n",
      "Activity recognized: 'dws'\n",
      "Activity recognized: 'wlk'\n",
      "Activity recognized: 'dws'\n",
      "Activity recognized: 'jog'\n",
      "Activity recognized: 'jog'\n",
      "Activity recognized: 'jog'\n",
      "Activity recognized: 'jog'\n",
      "Activity recognized: 'jog'\n",
      "Activity recognized: 'jog'\n",
      "Activity recognized: 'jog'\n"
     ]
    },
    {
     "ename": "ValueError",
     "evalue": "invalid literal for int() with base 10: b''",
     "output_type": "error",
     "traceback": [
      "\u001B[1;31m---------------------------------------------------------------------------\u001B[0m",
      "\u001B[1;31mValueError\u001B[0m                                Traceback (most recent call last)",
      "Cell \u001B[1;32mIn [8], line 2\u001B[0m\n\u001B[0;32m      1\u001B[0m \u001B[38;5;28;01mwhile\u001B[39;00m \u001B[38;5;28;01mTrue\u001B[39;00m:\n\u001B[1;32m----> 2\u001B[0m     \u001B[43mserver\u001B[49m\u001B[43m(\u001B[49m\u001B[43m)\u001B[49m\n\u001B[0;32m      3\u001B[0m     \u001B[38;5;28mprint\u001B[39m(\u001B[38;5;124m\"\u001B[39m\u001B[38;5;124mConnection lost...\u001B[39m\u001B[38;5;124m\"\u001B[39m)\n",
      "Cell \u001B[1;32mIn [7], line 15\u001B[0m, in \u001B[0;36mserver\u001B[1;34m()\u001B[0m\n\u001B[0;32m     12\u001B[0m ss,sockname \u001B[38;5;241m=\u001B[39m s\u001B[38;5;241m.\u001B[39maccept()\n\u001B[0;32m     14\u001B[0m \u001B[38;5;28;01mwhile\u001B[39;00m \u001B[38;5;28;01mTrue\u001B[39;00m:\n\u001B[1;32m---> 15\u001B[0m     msg\u001B[38;5;241m=\u001B[39m\u001B[43mrecv_msg\u001B[49m\u001B[43m(\u001B[49m\u001B[43mss\u001B[49m\u001B[43m)\u001B[49m\u001B[38;5;241m.\u001B[39mdecode()\n\u001B[0;32m     16\u001B[0m     \u001B[38;5;28;01mif\u001B[39;00m \u001B[38;5;129;01mnot\u001B[39;00m msg:\n\u001B[0;32m     17\u001B[0m         ss\u001B[38;5;241m.\u001B[39mclose()\n",
      "Cell \u001B[1;32mIn [5], line 3\u001B[0m, in \u001B[0;36mrecv_msg\u001B[1;34m(sock)\u001B[0m\n\u001B[0;32m      1\u001B[0m \u001B[38;5;28;01mdef\u001B[39;00m \u001B[38;5;21mrecv_msg\u001B[39m(sock):\n\u001B[0;32m      2\u001B[0m     \u001B[38;5;66;03m# Read message length and unpack it into an integer\u001B[39;00m\n\u001B[1;32m----> 3\u001B[0m     msglen \u001B[38;5;241m=\u001B[39m \u001B[38;5;28;43mint\u001B[39;49m\u001B[43m(\u001B[49m\u001B[43msock\u001B[49m\u001B[38;5;241;43m.\u001B[39;49m\u001B[43mrecv\u001B[49m\u001B[43m(\u001B[49m\u001B[38;5;241;43m8\u001B[39;49m\u001B[43m)\u001B[49m\u001B[43m)\u001B[49m\n\u001B[0;32m      4\u001B[0m     \u001B[38;5;28;01mif\u001B[39;00m \u001B[38;5;129;01mnot\u001B[39;00m msglen:\n\u001B[0;32m      5\u001B[0m         \u001B[38;5;28;01mreturn\u001B[39;00m \u001B[38;5;28;01mNone\u001B[39;00m\n",
      "\u001B[1;31mValueError\u001B[0m: invalid literal for int() with base 10: b''"
     ]
    }
   ],
   "source": [
    "while True:\n",
    "    server()\n",
    "    print(\"Connection lost...\")"
   ],
   "metadata": {
    "collapsed": false
   }
  }
 ],
 "metadata": {
  "kernelspec": {
   "display_name": "Python 3",
   "language": "python",
   "name": "python3"
  },
  "language_info": {
   "codemirror_mode": {
    "name": "ipython",
    "version": 2
   },
   "file_extension": ".py",
   "mimetype": "text/x-python",
   "name": "python",
   "nbconvert_exporter": "python",
   "pygments_lexer": "ipython2",
   "version": "2.7.6"
  }
 },
 "nbformat": 4,
 "nbformat_minor": 0
}
